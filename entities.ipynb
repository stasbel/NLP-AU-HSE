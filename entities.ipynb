{
 "cells": [
  {
   "cell_type": "code",
   "execution_count": 1,
   "metadata": {},
   "outputs": [],
   "source": [
    "import spacy\n",
    "\n",
    "from tqdm import tqdm"
   ]
  },
  {
   "cell_type": "code",
   "execution_count": 2,
   "metadata": {},
   "outputs": [
    {
     "name": "stdout",
     "output_type": "stream",
     "text": [
      "В этом фрагменте Владимир Путин говорит о том, как началась работа «по возврату Крыма в состав России».\r\n",
      "Россия и Турция подписали в минувшую среду 12 мая межправительственное соглашение о взаимной отмене виз.\r\n",
      "Руководство востребованного у жителей нашей страны блог-сервиса Livejournal намерено получить прибыль от замороженных блогов.\r\n",
      "Если мы этого добьёмся, эффект будет колоссальным.\r\n",
      "• Намибия\r\n",
      "Мы были и на Западе, и на Востоке, и на юге, и в Центре, и в Донецке, в Харькове, и в Киеве, и во Львове.\r\n",
      "В мае прошлого года агентство Reuters опубликовало расследование, согласно которому часть средств, выделенных в 2005 году на национальный проект \"Здоровье\", ушла на постройку \"дворца\" под Геленджиком, владение которым приписывается президенту России.\r\n",
      "Что же касается самого VMware, то он продолжит котироваться в качестве самостоятельной компании.\r\n",
      "В тот раз хакеры-исламисты взломали Twitter и оставили на аккаунте CENTCOM пропагандистские лозунги, а также угрозы в адрес американских военных в связи со служебной информацией, которая оказалась в руках экстремистов.\r\n",
      "Он подчеркнул, что «необходимость адаптироваться связана и со стрессом, и с заболеваниями».\r\n"
     ]
    }
   ],
   "source": [
    "!head -n10 dataset_40163_1.txt"
   ]
  },
  {
   "cell_type": "code",
   "execution_count": 3,
   "metadata": {},
   "outputs": [],
   "source": [
    "nlp = spacy.load('en_core_web_sm')"
   ]
  },
  {
   "cell_type": "code",
   "execution_count": 4,
   "metadata": {},
   "outputs": [
    {
     "name": "stderr",
     "output_type": "stream",
     "text": [
      "500it [00:03, 137.22it/s]\n"
     ]
    }
   ],
   "source": [
    "result = []\n",
    "with open('dataset_40163_1.txt') as f:\n",
    "    for i, text in tqdm(enumerate(f)):\n",
    "        line = []\n",
    "        for ent in nlp(text).ents:\n",
    "            type_ = ent.label_\n",
    "            if type_ == 'ORG' or type_ == 'PERSON':\n",
    "                line.append(f'{ent.start_char} {ent.end_char - ent.start_char} {type_}')\n",
    "        result.append(' '.join(line))"
   ]
  },
  {
   "cell_type": "code",
   "execution_count": 5,
   "metadata": {},
   "outputs": [
    {
     "data": {
      "text/plain": [
       "'17 8 ORG'"
      ]
     },
     "execution_count": 5,
     "metadata": {},
     "output_type": "execute_result"
    }
   ],
   "source": [
    "result[0]"
   ]
  },
  {
   "cell_type": "code",
   "execution_count": 6,
   "metadata": {},
   "outputs": [],
   "source": [
    "with open('output.txt', 'w') as f:\n",
    "    for line in result:\n",
    "        f.write(line)\n",
    "        if line:\n",
    "            f.write(' ')\n",
    "        f.write('EOL\\n')"
   ]
  },
  {
   "cell_type": "code",
   "execution_count": 7,
   "metadata": {},
   "outputs": [
    {
     "name": "stdout",
     "output_type": "stream",
     "text": [
      "17 8 ORG EOL\r\n",
      "0 6 ORG 9 6 PERSON EOL\r\n",
      "EOL\r\n",
      "EOL\r\n",
      "2 8 ORG EOL\r\n",
      "13 6 ORG 72 8 PERSON 86 5 PERSON EOL\r\n",
      "30 7 ORG EOL\r\n",
      "23 6 ORG EOL\r\n",
      "EOL\r\n",
      "EOL\r\n"
     ]
    }
   ],
   "source": [
    "!head -n10 output.txt"
   ]
  }
 ],
 "metadata": {
  "kernelspec": {
   "display_name": "Python 3",
   "language": "python",
   "name": "python3"
  },
  "language_info": {
   "codemirror_mode": {
    "name": "ipython",
    "version": 3
   },
   "file_extension": ".py",
   "mimetype": "text/x-python",
   "name": "python",
   "nbconvert_exporter": "python",
   "pygments_lexer": "ipython3",
   "version": "3.6.5"
  }
 },
 "nbformat": 4,
 "nbformat_minor": 2
}
