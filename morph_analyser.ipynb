{
 "cells": [
  {
   "cell_type": "markdown",
   "metadata": {},
   "source": [
    "# Morph analyzer"
   ]
  },
  {
   "cell_type": "code",
   "execution_count": 1,
   "metadata": {},
   "outputs": [],
   "source": [
    "import zipfile\n",
    "import pandas as pd\n",
    "\n",
    "from nltk.tokenize import RegexpTokenizer"
   ]
  },
  {
   "cell_type": "markdown",
   "metadata": {},
   "source": [
    "Go to [OpenCorpora](http://opencorpora.org/dict.php) and download morph dict manually."
   ]
  },
  {
   "cell_type": "code",
   "execution_count": 2,
   "metadata": {},
   "outputs": [],
   "source": [
    "# with zipfile.ZipFile('dict.opcorpora.txt.zip', 'r').open('dict.opcorpora.txt') as f:\n",
    "#     for s in f.readlines()[:100]:\n",
    "#         print(s.decode('utf-8'))"
   ]
  },
  {
   "cell_type": "code",
   "execution_count": 3,
   "metadata": {},
   "outputs": [
    {
     "name": "stdout",
     "output_type": "stream",
     "text": [
      "CPU times: user 4.39 s, sys: 352 ms, total: 4.74 s\n",
      "Wall time: 4.84 s\n"
     ]
    }
   ],
   "source": [
    "%%time\n",
    "simple_dict = {}\n",
    "posses_zoo = set()\n",
    "with zipfile.ZipFile('odict.csv.zip', 'r').open('odict.csv', 'r') as f:\n",
    "    for line in f.readlines():\n",
    "        splits = line.strip().decode('windows-1251').split(',')\n",
    "        morphem, pos, paradigm = splits[0].strip(), splits[1].strip(), [word for word in splits[2:] if word.isalpha()]\n",
    "        posses_zoo.add(pos)\n",
    "        simple_dict[morphem] = (morphem, pos)\n",
    "        for word in paradigm:\n",
    "            simple_dict[word] = (morphem, pos)"
   ]
  },
  {
   "cell_type": "code",
   "execution_count": 4,
   "metadata": {},
   "outputs": [
    {
     "data": {
      "text/plain": [
       "[('а', ('а', 'част.')),\n",
       " ('Ааре', ('Ааре', 'ж')),\n",
       " ('аароновщина', ('аароновщина', 'ж')),\n",
       " ('аароновщины', ('аароновщина', 'ж')),\n",
       " ('аароновщине', ('аароновщина', 'ж')),\n",
       " ('аароновщину', ('аароновщина', 'ж')),\n",
       " ('аароновщиной', ('аароновщина', 'ж')),\n",
       " ('аароновщин', ('аароновщина', 'ж')),\n",
       " ('аароновщинам', ('аароновщина', 'ж')),\n",
       " ('аароновщинами', ('аароновщина', 'ж'))]"
      ]
     },
     "execution_count": 4,
     "metadata": {},
     "output_type": "execute_result"
    }
   ],
   "source": [
    "list(simple_dict.items())[:10]"
   ]
  },
  {
   "cell_type": "code",
   "execution_count": 5,
   "metadata": {},
   "outputs": [
    {
     "name": "stdout",
     "output_type": "stream",
     "text": [
      "{'со', 'предик.', 'н', 'с', 'союз', 'нсв', 'св', 'числ.-п', 'жо', 'мо', 'мн.', 'сравн.', 'п', 'предл.', 'числ.', 'част.', 'мо-жо', 'межд.', 'м', 'св-нсв', 'вводн.', 'мс-п', 'ж'}\n"
     ]
    }
   ],
   "source": [
    "print(posses_zoo)"
   ]
  },
  {
   "cell_type": "code",
   "execution_count": 6,
   "metadata": {},
   "outputs": [],
   "source": [
    "def translate_pos(pos):\n",
    "    if pos in {'с', 'со', 'ж', 'жо', 'мн.', 'мо-жо', 'мо'}:\n",
    "        return 'S'\n",
    "    elif pos in {'п'}:\n",
    "        return 'A'\n",
    "    elif pos in {'св-нсв', 'св', 'нсв'}:\n",
    "        return 'V'\n",
    "    elif pos in {'предл.'}:\n",
    "        return 'PR'\n",
    "    elif pos in {'союз', 'част.'}:\n",
    "        return 'CONJ'\n",
    "    else:\n",
    "        return 'ADV'"
   ]
  },
  {
   "cell_type": "code",
   "execution_count": 7,
   "metadata": {},
   "outputs": [],
   "source": [
    "def analyze(text):\n",
    "    def make_unit(word, morphem, pos):\n",
    "        return word + '{' + morphem + '=' + pos + '}'\n",
    "    \n",
    "    tokenizer = RegexpTokenizer(r'\\w+')\n",
    "    parses = []\n",
    "    for word in tokenizer.tokenize(text):\n",
    "        if word in simple_dict:\n",
    "            morphem, pos = simple_dict[word]\n",
    "        elif word.lower() in simple_dict:\n",
    "            morphem, pos = simple_dict[word.lower()]\n",
    "        else:\n",
    "            morphem, pos = word[:-1] + 'a', 'S'\n",
    "        parses.append(make_unit(word, morphem, translate_pos(pos)))\n",
    "    return ' '.join(parses)"
   ]
  },
  {
   "cell_type": "markdown",
   "metadata": {},
   "source": [
    "## Validate"
   ]
  },
  {
   "cell_type": "code",
   "execution_count": 8,
   "metadata": {},
   "outputs": [],
   "source": [
    "VALIDATE_TEXT = 'Стала стабильнее экономическая и политическая обстановка, предприятия вывели из тени зарплаты сотрудников. Все Гришины одноклассники уже побывали за границей, он был чуть ли не единственным, кого не вывозили никуда дальше Красной Пахры.'"
   ]
  },
  {
   "cell_type": "code",
   "execution_count": 9,
   "metadata": {},
   "outputs": [
    {
     "data": {
      "text/plain": [
       "'Стала{стать=V} стабильнее{стабильный=A} экономическая{экономический=A} и{и=CONJ} политическая{политический=A} обстановка{обстановка=S} предприятия{предприятие=S} вывели{вывести=V} из{из=PR} тени{тень=S} зарплаты{зарплата=S} сотрудников{сотрудник=S} Все{Всa=ADV} Гришины{Гришинa=ADV} одноклассники{одноклассник=S} уже{узкий=A} побывали{побывать=V} за{за=PR} границей{граница=S} он{он=S} был{быa=ADV} чуть{чуть=CONJ} ли{ли=CONJ} не{не=CONJ} единственным{единственный=A} кого{когa=ADV} не{не=CONJ} вывозили{вывозить=V} никуда{никуда=ADV} дальше{дальше=ADV} Красной{красный=A} Пахры{Пахрa=ADV}'"
      ]
     },
     "execution_count": 9,
     "metadata": {},
     "output_type": "execute_result"
    }
   ],
   "source": [
    "analyze(VALIDATE_TEXT)"
   ]
  },
  {
   "cell_type": "markdown",
   "metadata": {},
   "source": [
    "## Test"
   ]
  },
  {
   "cell_type": "code",
   "execution_count": 10,
   "metadata": {},
   "outputs": [],
   "source": [
    "with open('dataset_37845_1.txt', 'r') as i, \\\n",
    "    open('dataset_37845_1-a.txt', 'w') as o:\n",
    "    for line in i:\n",
    "        o.write(analyze(line.strip()) + '\\n')"
   ]
  }
 ],
 "metadata": {
  "kernelspec": {
   "display_name": "Python 3",
   "language": "python",
   "name": "python3"
  },
  "language_info": {
   "codemirror_mode": {
    "name": "ipython",
    "version": 3
   },
   "file_extension": ".py",
   "mimetype": "text/x-python",
   "name": "python",
   "nbconvert_exporter": "python",
   "pygments_lexer": "ipython3",
   "version": "3.6.2"
  }
 },
 "nbformat": 4,
 "nbformat_minor": 2
}
