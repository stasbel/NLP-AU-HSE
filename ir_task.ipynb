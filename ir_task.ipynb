{
 "cells": [
  {
   "cell_type": "code",
   "execution_count": 1,
   "metadata": {},
   "outputs": [],
   "source": [
    "import numpy as np\n",
    "\n",
    "from scipy.spatial.distance import cosine\n",
    "from sklearn.feature_extraction.text import TfidfVectorizer"
   ]
  },
  {
   "cell_type": "code",
   "execution_count": 2,
   "metadata": {},
   "outputs": [
    {
     "data": {
      "text/plain": [
       "10000"
      ]
     },
     "execution_count": 2,
     "metadata": {},
     "output_type": "execute_result"
    }
   ],
   "source": [
    "texts = [\n",
    "    'красный синий красный зеленый красный фисташковый',\n",
    "    'фисташковый алый лазоревый белый красный'\n",
    "]\n",
    "texts.extend(['красный'] * (100 - 2))\n",
    "texts.extend(['синий'] * (80 - 1))\n",
    "texts.extend(['зеленый'] * (75 - 1))\n",
    "texts.extend(['фисташковый'] * (10 - 2))\n",
    "texts.extend(['алый'] * (50 - 1))\n",
    "texts.extend(['лазоревый'] * (25 - 1))\n",
    "texts.extend(['белый'] * (200 - 1))\n",
    "texts.extend([''] * (10000 - len(texts)))\n",
    "len(texts)"
   ]
  },
  {
   "cell_type": "code",
   "execution_count": 3,
   "metadata": {},
   "outputs": [],
   "source": [
    "def tf(t, d):\n",
    "    return sum([(t == s) for s in d.split()])\n",
    "\n",
    "def df(t):\n",
    "    return sum([(t in text) for text in texts])"
   ]
  },
  {
   "cell_type": "code",
   "execution_count": 4,
   "metadata": {},
   "outputs": [
    {
     "data": {
      "text/plain": [
       "0.45570045723808605"
      ]
     },
     "execution_count": 4,
     "metadata": {},
     "output_type": "execute_result"
    }
   ],
   "source": [
    "vect = TfidfVectorizer(smooth_idf=False, sublinear_tf=True)\n",
    "M = vect.fit_transform(texts)[:2].todense()\n",
    "v, w = np.array(M[0])[0], np.array(M[1])[0]\n",
    "cosine(v, w)"
   ]
  },
  {
   "cell_type": "code",
   "execution_count": 7,
   "metadata": {},
   "outputs": [
    {
     "data": {
      "text/plain": [
       "array([6.29831737, 4.91202301, 5.89285226, 5.60517019, 6.99146455,\n",
       "       5.82831374, 7.90775528])"
      ]
     },
     "execution_count": 7,
     "metadata": {},
     "output_type": "execute_result"
    }
   ],
   "source": [
    "vect.idf_"
   ]
  },
  {
   "cell_type": "code",
   "execution_count": 26,
   "metadata": {},
   "outputs": [
    {
     "name": "stdout",
     "output_type": "stream",
     "text": [
      "красный: 100\n",
      "синий: 80\n",
      "зеленый: 75\n",
      "фисташковый: 10\n",
      "алый: 50\n",
      "лазоревый: 25\n",
      "белый: 200\n"
     ]
    }
   ],
   "source": [
    "for w in vect.vocabulary_:\n",
    "    print(f'{w}: {df(w)}')"
   ]
  },
  {
   "cell_type": "code",
   "execution_count": 28,
   "metadata": {},
   "outputs": [
    {
     "data": {
      "text/plain": [
       "100.0"
      ]
     },
     "execution_count": 28,
     "metadata": {},
     "output_type": "execute_result"
    }
   ],
   "source": [
    "len(texts) / df('красный')"
   ]
  }
 ],
 "metadata": {
  "kernelspec": {
   "display_name": "Python 3",
   "language": "python",
   "name": "python3"
  },
  "language_info": {
   "codemirror_mode": {
    "name": "ipython",
    "version": 3
   },
   "file_extension": ".py",
   "mimetype": "text/x-python",
   "name": "python",
   "nbconvert_exporter": "python",
   "pygments_lexer": "ipython3",
   "version": "3.6.5"
  }
 },
 "nbformat": 4,
 "nbformat_minor": 2
}
