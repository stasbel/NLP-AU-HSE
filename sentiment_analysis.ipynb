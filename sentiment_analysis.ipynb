{
 "cells": [
  {
   "cell_type": "code",
   "execution_count": 44,
   "metadata": {},
   "outputs": [],
   "source": [
    "import random\n",
    "import numpy as np"
   ]
  },
  {
   "cell_type": "code",
   "execution_count": 57,
   "metadata": {},
   "outputs": [],
   "source": [
    "from sklearn.datasets.lfw import Bunch\n",
    "from sklearn.pipeline import make_pipeline\n",
    "from sklearn.metrics import mean_squared_error\n",
    "from sklearn.model_selection import train_test_split\n",
    "from sklearn.feature_extraction.text import TfidfVectorizer\n",
    "from sklearn.linear_model import SGDClassifier, SGDRegressor\n",
    "from sklearn.neural_network import MLPRegressor, MLPClassifier"
   ]
  },
  {
   "cell_type": "code",
   "execution_count": 239,
   "metadata": {},
   "outputs": [],
   "source": [
    "from keras import backend as K\n",
    "from keras.layers import Embedding\n",
    "from keras.utils.vis_utils import model_to_dot\n",
    "from keras.models import Sequential, load_model\n",
    "from keras.callbacks import Callback, ModelCheckpoint\n",
    "from keras.preprocessing.sequence import pad_sequences\n",
    "from keras.preprocessing.text import text_to_word_sequence, one_hot\n",
    "from keras.utils import to_categorical, print_summary, plot_model, Sequence\n",
    "from keras.layers import LSTM, CuDNNLSTM, Dense, TimeDistributed, Activation, GRU"
   ]
  },
  {
   "cell_type": "code",
   "execution_count": 3,
   "metadata": {},
   "outputs": [],
   "source": [
    "args = Bunch()"
   ]
  },
  {
   "cell_type": "code",
   "execution_count": 78,
   "metadata": {},
   "outputs": [],
   "source": [
    "args.texts_train = 'texts_train.txt'\n",
    "args.scores_train = 'scores_train.txt'\n",
    "args.texts_test = 'dataset_40757_1.txt'\n",
    "args.scores_test = 'scores_test.txt'"
   ]
  },
  {
   "cell_type": "code",
   "execution_count": 215,
   "metadata": {},
   "outputs": [],
   "source": [
    "def to_norm(y):\n",
    "    return (((y - 1) / 9) * 2) - 1\n",
    "\n",
    "\n",
    "def to_scores(y):\n",
    "    return np.round((((y + 1) / 2) * 9) + 1).astype(int)\n",
    "\n",
    "\n",
    "def tf_to_scores(y):\n",
    "    return K.round((((y + 1) / 2) * 9) + 1)"
   ]
  },
  {
   "cell_type": "markdown",
   "metadata": {},
   "source": [
    "## Train"
   ]
  },
  {
   "cell_type": "code",
   "execution_count": 187,
   "metadata": {},
   "outputs": [
    {
     "name": "stdout",
     "output_type": "stream",
     "text": [
      "len=20000\n"
     ]
    },
    {
     "data": {
      "text/plain": [
       "['Я думаю фильм состоялся по спецэффектам и сюжету...',\n",
       " 'блеа..вот убожество то гребаная медиа-франшиза совсем тухнет, и не спасают ужимки джонни деппа этот опус',\n",
       " 'Один из самых лучших фильмов, если не самый лучший о Любви, о Мужчине и Женщине.']"
      ]
     },
     "execution_count": 187,
     "metadata": {},
     "output_type": "execute_result"
    }
   ],
   "source": [
    "texts = [line.strip() for line in open(args.texts_train, 'r')]\n",
    "print(f'len={len(texts)}')\n",
    "random.sample(texts, 3)"
   ]
  },
  {
   "cell_type": "code",
   "execution_count": 188,
   "metadata": {},
   "outputs": [
    {
     "name": "stdout",
     "output_type": "stream",
     "text": [
      "len=20000\n"
     ]
    },
    {
     "data": {
      "text/plain": [
       "[9, 10, 8]"
      ]
     },
     "execution_count": 188,
     "metadata": {},
     "output_type": "execute_result"
    }
   ],
   "source": [
    "scores = np.array([int(line.strip()) for line in open(args.scores_train, 'r')])\n",
    "print(f'len={len(scores)}')\n",
    "random.sample(scores.tolist(), 3)"
   ]
  },
  {
   "cell_type": "code",
   "execution_count": 235,
   "metadata": {},
   "outputs": [
    {
     "data": {
      "text/plain": [
       "((20000, 3000), (20000,))"
      ]
     },
     "execution_count": 235,
     "metadata": {},
     "output_type": "execute_result"
    }
   ],
   "source": [
    "# vect = TfidfVectorizer(ngram_range=(3, 4), max_features=3000)\n",
    "# X = vect.fit_transform(texts)\n",
    "# y = to_norm(scores)\n",
    "# X.shape, y.shape"
   ]
  },
  {
   "cell_type": "code",
   "execution_count": 240,
   "metadata": {},
   "outputs": [],
   "source": [
    "# X_train, X_val, y_train, y_val = train_test_split(X, y, test_size=0.2)\n",
    "# X_train, y_train = X, y\n",
    "X_train, y_train = texts, scores"
   ]
  },
  {
   "cell_type": "code",
   "execution_count": 237,
   "metadata": {},
   "outputs": [
    {
     "name": "stdout",
     "output_type": "stream",
     "text": [
      "_________________________________________________________________\n",
      "Layer (type)                 Output Shape              Param #   \n",
      "=================================================================\n",
      "dense_37 (Dense)             (None, 100)               300100    \n",
      "_________________________________________________________________\n",
      "dense_38 (Dense)             (None, 100)               10100     \n",
      "_________________________________________________________________\n",
      "dense_39 (Dense)             (None, 1)                 101       \n",
      "=================================================================\n",
      "Total params: 310,301\n",
      "Trainable params: 310,301\n",
      "Non-trainable params: 0\n",
      "_________________________________________________________________\n"
     ]
    }
   ],
   "source": [
    "def root_mean_squared_error(y_true, y_pred):\n",
    "    return K.sqrt(K.mean(K.square(y_pred - y_true), axis=-1)) \n",
    "\n",
    "\n",
    "def scores_rmse(y_true, y_pred):\n",
    "    return root_mean_squared_error(tf_to_scores(y_true), tf_to_scores(y_pred))\n",
    "\n",
    "\n",
    "model = Sequential()\n",
    "model.add(Embedding(16))\n",
    "model.add(Dense(100, input_shape=(X.shape[1],)))\n",
    "model.add(Dense(100))\n",
    "model.add(Dense(1, activation='tanh'))\n",
    "model.compile(loss=root_mean_squared_error, optimizer='adam',\n",
    "              metrics=[scores_rmse])\n",
    "print_summary(model)"
   ]
  },
  {
   "cell_type": "code",
   "execution_count": 238,
   "metadata": {},
   "outputs": [
    {
     "name": "stdout",
     "output_type": "stream",
     "text": [
      "Train on 18000 samples, validate on 2000 samples\n",
      "Epoch 1/10\n",
      "18000/18000 [==============================] - 2s 132us/step - loss: 0.3716 - scores_rmse: 1.6532 - val_loss: 0.3948 - val_scores_rmse: 1.7835\n",
      "Epoch 2/10\n",
      "18000/18000 [==============================] - 2s 97us/step - loss: 0.3284 - scores_rmse: 1.4547 - val_loss: 0.3975 - val_scores_rmse: 1.7725\n",
      "Epoch 3/10\n",
      "18000/18000 [==============================] - 2s 96us/step - loss: 0.3186 - scores_rmse: 1.4107 - val_loss: 0.4013 - val_scores_rmse: 1.7915\n",
      "Epoch 4/10\n",
      "18000/18000 [==============================] - 2s 101us/step - loss: 0.3135 - scores_rmse: 1.3890 - val_loss: 0.3971 - val_scores_rmse: 1.7855\n",
      "Epoch 5/10\n",
      "18000/18000 [==============================] - 2s 95us/step - loss: 0.3102 - scores_rmse: 1.3745 - val_loss: 0.3955 - val_scores_rmse: 1.7790\n",
      "Epoch 6/10\n",
      "18000/18000 [==============================] - 2s 95us/step - loss: 0.3081 - scores_rmse: 1.3613 - val_loss: 0.3960 - val_scores_rmse: 1.7840\n",
      "Epoch 7/10\n",
      "18000/18000 [==============================] - 2s 96us/step - loss: 0.3066 - scores_rmse: 1.3548 - val_loss: 0.4033 - val_scores_rmse: 1.8085\n",
      "Epoch 8/10\n",
      "18000/18000 [==============================] - 2s 101us/step - loss: 0.3045 - scores_rmse: 1.3493 - val_loss: 0.4080 - val_scores_rmse: 1.8295\n",
      "Epoch 9/10\n",
      "18000/18000 [==============================] - 2s 104us/step - loss: 0.3036 - scores_rmse: 1.3434 - val_loss: 0.4059 - val_scores_rmse: 1.8240\n",
      "Epoch 10/10\n",
      "18000/18000 [==============================] - 2s 103us/step - loss: 0.3025 - scores_rmse: 1.3383 - val_loss: 0.4036 - val_scores_rmse: 1.8165\n"
     ]
    },
    {
     "data": {
      "text/plain": [
       "<keras.callbacks.History at 0x1acd55a90>"
      ]
     },
     "execution_count": 238,
     "metadata": {},
     "output_type": "execute_result"
    }
   ],
   "source": [
    "model.fit(X_train, y_train, batch_size=128, epochs=10, validation_split=0.1)"
   ]
  },
  {
   "cell_type": "markdown",
   "metadata": {},
   "source": [
    "## Test"
   ]
  },
  {
   "cell_type": "code",
   "execution_count": 218,
   "metadata": {},
   "outputs": [
    {
     "name": "stdout",
     "output_type": "stream",
     "text": [
      "len=1000\n"
     ]
    },
    {
     "data": {
      "text/plain": [
       "['Меня он не особо заинтересовал.. но посмотреть можно)',\n",
       " 'Прекрасная книга! Позволяет размышлять о себе, о сущности человека, о своих поступках.',\n",
       " 'Как жаль парня. А книга великолепна =)']"
      ]
     },
     "execution_count": 218,
     "metadata": {},
     "output_type": "execute_result"
    }
   ],
   "source": [
    "test_texts = [line.strip() for line in open(args.texts_test, 'r')]\n",
    "print(f'len={len(test_texts)}')\n",
    "random.sample(test_texts, 3)"
   ]
  },
  {
   "cell_type": "code",
   "execution_count": 219,
   "metadata": {},
   "outputs": [
    {
     "data": {
      "text/plain": [
       "(1000, 3000)"
      ]
     },
     "execution_count": 219,
     "metadata": {},
     "output_type": "execute_result"
    }
   ],
   "source": [
    "X_test = vect.transform(test_texts)\n",
    "X_test.shape"
   ]
  },
  {
   "cell_type": "code",
   "execution_count": 220,
   "metadata": {},
   "outputs": [
    {
     "data": {
      "text/plain": [
       "(-0.9679633, 0.998897)"
      ]
     },
     "execution_count": 220,
     "metadata": {},
     "output_type": "execute_result"
    }
   ],
   "source": [
    "y_pred = model.predict(X_test)\n",
    "y_pred.min(), y_pred.max()"
   ]
  },
  {
   "cell_type": "code",
   "execution_count": 221,
   "metadata": {},
   "outputs": [
    {
     "data": {
      "text/plain": [
       "(1, 10)"
      ]
     },
     "execution_count": 221,
     "metadata": {},
     "output_type": "execute_result"
    }
   ],
   "source": [
    "scores_pred = to_scores(y_pred)\n",
    "scores_pred.min(), scores_pred.max()"
   ]
  },
  {
   "cell_type": "code",
   "execution_count": 227,
   "metadata": {},
   "outputs": [],
   "source": [
    "with open(args.scores_test, 'w') as f:\n",
    "    for y in scores_pred:\n",
    "        f.write(f'{y[0]}\\n')"
   ]
  },
  {
   "cell_type": "code",
   "execution_count": 228,
   "metadata": {},
   "outputs": [
    {
     "name": "stdout",
     "output_type": "stream",
     "text": [
      "10\r\n",
      "8\r\n",
      "8\r\n",
      "10\r\n",
      "9\r\n",
      "8\r\n",
      "10\r\n",
      "10\r\n",
      "9\r\n",
      "6\r\n"
     ]
    }
   ],
   "source": [
    "!head -n10 $args.scores_test"
   ]
  }
 ],
 "metadata": {
  "kernelspec": {
   "display_name": "Python 3",
   "language": "python",
   "name": "python3"
  },
  "language_info": {
   "codemirror_mode": {
    "name": "ipython",
    "version": 3
   },
   "file_extension": ".py",
   "mimetype": "text/x-python",
   "name": "python",
   "nbconvert_exporter": "python",
   "pygments_lexer": "ipython3",
   "version": "3.6.2"
  }
 },
 "nbformat": 4,
 "nbformat_minor": 2
}
